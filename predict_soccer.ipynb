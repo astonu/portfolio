{
 "cells": [
  {
   "cell_type": "markdown",
   "metadata": {},
   "source": [
    "# 課題4: サッカーの試合における結果の予測\n",
    "\n",
    "過去の試合データを使って、試合の結果を予測する。"
   ]
  },
  {
   "cell_type": "markdown",
   "metadata": {},
   "source": [
    "## 1. 必要なモジュールの読み込み"
   ]
  },
  {
   "cell_type": "code",
   "execution_count": 1,
   "metadata": {},
   "outputs": [],
   "source": [
    "import pandas as pd\n",
    "import numpy as np\n",
    "from scipy import stats\n",
    "\n",
    "import matplotlib.pyplot as plt\n",
    "import seaborn as sns\n",
    "sns.set()\n",
    "\n",
    "import statsmodels.formula.api as smf\n",
    "import statsmodels.api as sm\n",
    "\n",
    "%matplotlib inline"
   ]
  },
  {
   "cell_type": "markdown",
   "metadata": {},
   "source": [
    "## 2. データの読み込み\n",
    "\n",
    "データはdatasetフォルダ直下にある\"J1_data.csv\"を使用します。\n",
    "\n",
    "このデータセットはFootball-Data.co.jp (http://www.football-data.co.uk/japan.php) から引用したものを加工しています。"
   ]
  },
  {
   "cell_type": "code",
   "execution_count": 2,
   "metadata": {},
   "outputs": [],
   "source": [
    "# データを読み込んで変数 data に格納\n",
    "data = pd.read_csv('J1_data.csv')"
   ]
  },
  {
   "cell_type": "code",
   "execution_count": 3,
   "metadata": {},
   "outputs": [
    {
     "data": {
      "text/html": [
       "<div>\n",
       "<style scoped>\n",
       "    .dataframe tbody tr th:only-of-type {\n",
       "        vertical-align: middle;\n",
       "    }\n",
       "\n",
       "    .dataframe tbody tr th {\n",
       "        vertical-align: top;\n",
       "    }\n",
       "\n",
       "    .dataframe thead th {\n",
       "        text-align: right;\n",
       "    }\n",
       "</style>\n",
       "<table border=\"1\" class=\"dataframe\">\n",
       "  <thead>\n",
       "    <tr style=\"text-align: right;\">\n",
       "      <th></th>\n",
       "      <th>Home</th>\n",
       "      <th>Away</th>\n",
       "      <th>Home_Goals</th>\n",
       "      <th>Away_Goals</th>\n",
       "    </tr>\n",
       "  </thead>\n",
       "  <tbody>\n",
       "    <tr>\n",
       "      <th>0</th>\n",
       "      <td>G-Osaka</td>\n",
       "      <td>Kobe</td>\n",
       "      <td>2</td>\n",
       "      <td>3</td>\n",
       "    </tr>\n",
       "    <tr>\n",
       "      <th>1</th>\n",
       "      <td>Hiroshima</td>\n",
       "      <td>Urawa</td>\n",
       "      <td>1</td>\n",
       "      <td>0</td>\n",
       "    </tr>\n",
       "    <tr>\n",
       "      <th>2</th>\n",
       "      <td>Nagoya</td>\n",
       "      <td>Shimizu</td>\n",
       "      <td>1</td>\n",
       "      <td>0</td>\n",
       "    </tr>\n",
       "    <tr>\n",
       "      <th>3</th>\n",
       "      <td>Sagan Tosu</td>\n",
       "      <td>C-Osaka</td>\n",
       "      <td>0</td>\n",
       "      <td>0</td>\n",
       "    </tr>\n",
       "    <tr>\n",
       "      <th>4</th>\n",
       "      <td>Sapporo</td>\n",
       "      <td>Iwata</td>\n",
       "      <td>0</td>\n",
       "      <td>0</td>\n",
       "    </tr>\n",
       "  </tbody>\n",
       "</table>\n",
       "</div>"
      ],
      "text/plain": [
       "         Home     Away  Home_Goals  Away_Goals\n",
       "0     G-Osaka     Kobe           2           3\n",
       "1   Hiroshima    Urawa           1           0\n",
       "2      Nagoya  Shimizu           1           0\n",
       "3  Sagan Tosu  C-Osaka           0           0\n",
       "4     Sapporo    Iwata           0           0"
      ]
     },
     "execution_count": 3,
     "metadata": {},
     "output_type": "execute_result"
    }
   ],
   "source": [
    "# データの最初の5行だけ表示\n",
    "data.head()"
   ]
  },
  {
   "cell_type": "code",
   "execution_count": 4,
   "metadata": {},
   "outputs": [
    {
     "name": "stdout",
     "output_type": "stream",
     "text": [
      "        Home_Goals   Away_Goals\n",
      "count  2140.000000  2140.000000\n",
      "mean      1.417757     1.253271\n",
      "std       1.254916     1.133602\n",
      "min       0.000000     0.000000\n",
      "25%       0.000000     0.000000\n",
      "50%       1.000000     1.000000\n",
      "75%       2.000000     2.000000\n",
      "max       7.000000     8.000000\n"
     ]
    }
   ],
   "source": [
    "# Homeチームのゴール数の平均と, Awayチームのゴール数の平均を計算して表示\n",
    "print(data.describe())"
   ]
  },
  {
   "cell_type": "markdown",
   "metadata": {},
   "source": [
    "## 3. データ概要の把握\n",
    "\n",
    "先ほどの「ゴールの平均」を見ると、どうやらHomeチームとAwayチームで得点に差がありそうです。ヒストグラムを作図して詳細を確認してみましょう。"
   ]
  },
  {
   "cell_type": "code",
   "execution_count": 5,
   "metadata": {},
   "outputs": [
    {
     "data": {
      "text/plain": [
       "(array([24., 35.,  0., 43.,  0.,  9.,  6.,  0.,  0.,  3.]),\n",
       " array([0. , 0.6, 1.2, 1.8, 2.4, 3. , 3.6, 4.2, 4.8, 5.4, 6. ]),\n",
       " <a list of 10 Patch objects>)"
      ]
     },
     "execution_count": 5,
     "metadata": {},
     "output_type": "execute_result"
    },
    {
     "data": {
      "image/png": "[encoded data removed]",
      "text/plain": [
       "<Figure size 432x288 with 2 Axes>"
      ]
     },
     "metadata": {
      "needs_background": "light"
     },
     "output_type": "display_data"
    }
   ],
   "source": [
    "# プロットエリアを2つに分け、Urawaに関して「Homeで試合をしたときの得点のヒストグラム」と「Awayで試合をしたときの得点のヒストグラム」を表示\n",
    "# なお、ヒストグラムの表示には Matplotlib の hist を使い、figureで2つのグラフを「並べて」表示すること。\n",
    "# ※ histの詳細： https://matplotlib.org/2.2.2/api/_as_gen/matplotlib.pyplot.hist.html\n",
    "\n",
    "urawa_home = data.query(\"Home == 'Urawa'\")\n",
    "urawa_away = data.query(\"Away == 'Urawa'\")\n",
    "y1 = urawa_home['Home_Goals']\n",
    "y2 = urawa_away['Away_Goals']\n",
    "fig = plt.figure()\n",
    "\n",
    "sp1 = fig.add_subplot(1, 2, 1)\n",
    "sp1.hist(y1)\n",
    "sp2 = fig.add_subplot(1, 2, 2)\n",
    "sp2.hist(y2)"
   ]
  },
  {
   "cell_type": "code",
   "execution_count": 6,
   "metadata": {},
   "outputs": [
    {
     "data": {
      "text/plain": [
       "(array([27., 39.,  0., 26.,  0.,  9.,  0.,  0.,  0.,  1.]),\n",
       " array([0. , 0.6, 1.2, 1.8, 2.4, 3. , 3.6, 4.2, 4.8, 5.4, 6. ]),\n",
       " <a list of 10 Patch objects>)"
      ]
     },
     "execution_count": 6,
     "metadata": {},
     "output_type": "execute_result"
    },
    {
     "data": {
      "image/png": "[encoded data removed]",
      "text/plain": [
       "<Figure size 432x288 with 2 Axes>"
      ]
     },
     "metadata": {
      "needs_background": "light"
     },
     "output_type": "display_data"
    }
   ],
   "source": [
    "# もう1つ、どこか違うチームをピックアップして、同様に\n",
    "# 「Homeで試合をしたときの得点のヒストグラム」と「Awayで試合をしたときの得点のヒストグラム」を表示\n",
    "nagoya_home = data.query(\"Home == 'Nagoya'\")\n",
    "nagoya_away = data.query(\"Away == 'Nagoya'\")\n",
    "y1 = nagoya_home['Home_Goals']\n",
    "y2 = nagoya_away['Away_Goals']\n",
    "fig = plt.figure()\n",
    "\n",
    "sp1 = fig.add_subplot(1, 2, 1)\n",
    "sp1.hist(y1)\n",
    "sp2 = fig.add_subplot(1, 2, 2)\n",
    "sp2.hist(y2)"
   ]
  },
  {
   "cell_type": "markdown",
   "metadata": {},
   "source": [
    "## 4. モデルの作成"
   ]
  },
  {
   "cell_type": "markdown",
   "metadata": {},
   "source": [
    "2通りのモデルを作成し、AICを確認。"
   ]
  },
  {
   "cell_type": "code",
   "execution_count": 7,
   "metadata": {},
   "outputs": [],
   "source": [
    "# 説明変数：Away_Goals、HomeとAwayを指定し、ゴール数の予測に適切な確率分布で一般化線形モデルを構築し、AICを算出\n",
    "model_1 = smf.glm('Home_Goals ~ Away_Goals+Home+Away', data=data, family=sm.families.Poisson()).fit()"
   ]
  },
  {
   "cell_type": "code",
   "execution_count": 8,
   "metadata": {},
   "outputs": [],
   "source": [
    "# 説明変数：HomeとAway_Goalsを指定し、ゴール数の予測に適切な確率分布で一般化線形モデルを構築し、AICを算出\n",
    "model_2 = smf.glm('Home_Goals ~ Home+Away_Goals', data=data, family=sm.families.Poisson()).fit()"
   ]
  },
  {
   "cell_type": "code",
   "execution_count": 9,
   "metadata": {},
   "outputs": [
    {
     "name": "stdout",
     "output_type": "stream",
     "text": [
      "Model-1: 6448.858\n",
      "Model-2: 6472.639\n"
     ]
    }
   ],
   "source": [
    "# 上記2つのモデルを比較し、選択すべき最適なモデルについて詳細を表示\n",
    "print('Model-1:',model_1.aic.round(3))\n",
    "print('Model-2:',model_2.aic.round(3))"
   ]
  },
  {
   "cell_type": "code",
   "execution_count": 10,
   "metadata": {},
   "outputs": [
    {
     "name": "stdout",
     "output_type": "stream",
     "text": [
      "Urawa:    1.575325\n",
      "dtype: float64\n"
     ]
    }
   ],
   "source": [
    "# Home: Urawa, Away: KashimaでAwayのチームが0得点だった場合のHomeの得点を予測\n",
    "pred = model_1.predict(pd.DataFrame(data ={'Home':'Urawa','Away':'Kashima','Away_Goals':0},index = ['Urawa:']))\n",
    "print(pred)"
   ]
  },
  {
   "cell_type": "code",
   "execution_count": 11,
   "metadata": {},
   "outputs": [
    {
     "name": "stdout",
     "output_type": "stream",
     "text": [
      "Urawa:    1.730129\n",
      "dtype: float64\n"
     ]
    }
   ],
   "source": [
    "# Home: Urawa, Away: KashimaでAwayのチームが2得点だった場合のHomeの得点を予測\n",
    "pred = model_1.predict(pd.DataFrame(data ={'Home':'Urawa','Away':'Kashima','Away_Goals':2},index = ['Urawa:']))\n",
    "print(pred)"
   ]
  },
  {
   "cell_type": "markdown",
   "metadata": {},
   "source": [
    "## 5. シミュレーション\n",
    "\n",
    "Homeの点数の予測値は、Awayの点数によって変わる\n",
    "\n",
    "Awayの得点は、これまでのAwayでの得点平均をlambda（λ：強度）とするポアソン分布に従うため、\n",
    "\n",
    "ポアソン分布から乱数を発生させ、その結果からHomeの得点を予測する。"
   ]
  },
  {
   "cell_type": "code",
   "execution_count": 12,
   "metadata": {},
   "outputs": [
    {
     "name": "stdout",
     "output_type": "stream",
     "text": [
      "1.6363636363636365\n"
     ]
    }
   ],
   "source": [
    "# 今回はKashimaがAwayですので、Kashimaの　Awayでの得点平均を計算\n",
    "kashima_away = data.query(\"Away == 'Kashima'\")\n",
    "y3 = kashima_away['Away_Goals']\n",
    "x1 = np.mean(y3)\n",
    "print(x1)"
   ]
  },
  {
   "cell_type": "code",
   "execution_count": 13,
   "metadata": {},
   "outputs": [
    {
     "name": "stdout",
     "output_type": "stream",
     "text": [
      "[0 5 1 0 0 1 1 1 3 1 0 2 3 0 1 1 1 2 2 3 2 5 1 0 2 4 2 2 3 3 1 1 2 1 1 2 1\n",
      " 2 0 1 0 4 1 2 1 1 1 2 0 2 3 1 2 0 3 1 2 2 1 4 3 1 1 5 2 1 5 0 1 0 1 0 0 1\n",
      " 1 1 0 2 1 3 1 4 2 2 2 2 2 5 4 2 3 2 2 2 1 8 0 2 2 1]\n"
     ]
    },
    {
     "data": {
      "text/plain": [
       "(array([16., 34., 29., 10.,  5.,  5.,  0.,  0.,  1.,  0.,  0.,  0.,  0.,\n",
       "         0.,  0.,  0.,  0.,  0.,  0.,  0.]),\n",
       " array([ 0.,  1.,  2.,  3.,  4.,  5.,  6.,  7.,  8.,  9., 10., 11., 12.,\n",
       "        13., 14., 15., 16., 17., 18., 19., 20.]),\n",
       " <a list of 20 Patch objects>)"
      ]
     },
     "execution_count": 13,
     "metadata": {},
     "output_type": "execute_result"
    },
    {
     "data": {
      "image/png": "[encoded data removed]",
      "text/plain": [
       "<Figure size 432x288 with 1 Axes>"
      ]
     },
     "metadata": {
      "needs_background": "light"
     },
     "output_type": "display_data"
    }
   ],
   "source": [
    "# 上記で求めた平均=lambda(強度：λ)としたポアソン分布から乱数を100個発生させる。\n",
    "# 参考：https://docs.scipy.org/doc/numpy-1.14.2/reference/generated/numpy.random.poisson.html\n",
    "list_away = []\n",
    "x2 = np.random.poisson(lam=x1, size=100)\n",
    "list_away.append(x2)\n",
    "print(x2)\n",
    "plt.hist(x2, label='$\\lambda$=1', bins=20, range = (0,20), alpha = 0.5, color='blue')"
   ]
  },
  {
   "cell_type": "code",
   "execution_count": 14,
   "metadata": {},
   "outputs": [
    {
     "name": "stdout",
     "output_type": "stream",
     "text": [
      "[[1.57532506 1.99131975 1.6509136  1.57532506 1.57532506 1.6509136\n",
      "  1.6509136  1.6509136  1.81314557 1.6509136  1.57532506 1.73012909\n",
      "  1.81314557 1.57532506 1.6509136  1.6509136  1.6509136  1.73012909\n",
      "  1.73012909 1.81314557 1.73012909 1.99131975 1.6509136  1.57532506\n",
      "  1.73012909 1.90014541 1.73012909 1.73012909 1.81314557 1.81314557\n",
      "  1.6509136  1.6509136  1.73012909 1.6509136  1.6509136  1.73012909\n",
      "  1.6509136  1.73012909 1.57532506 1.6509136  1.57532506 1.90014541\n",
      "  1.6509136  1.73012909 1.6509136  1.6509136  1.6509136  1.73012909\n",
      "  1.57532506 1.73012909 1.81314557 1.6509136  1.73012909 1.57532506\n",
      "  1.81314557 1.6509136  1.73012909 1.73012909 1.6509136  1.90014541\n",
      "  1.81314557 1.6509136  1.6509136  1.99131975 1.73012909 1.6509136\n",
      "  1.99131975 1.57532506 1.6509136  1.57532506 1.6509136  1.57532506\n",
      "  1.57532506 1.6509136  1.6509136  1.6509136  1.57532506 1.73012909\n",
      "  1.6509136  1.81314557 1.6509136  1.90014541 1.73012909 1.73012909\n",
      "  1.73012909 1.73012909 1.73012909 1.99131975 1.90014541 1.73012909\n",
      "  1.81314557 1.73012909 1.73012909 1.73012909 1.6509136  2.29194132\n",
      "  1.57532506 1.73012909 1.73012909 1.6509136 ]]\n"
     ]
    }
   ],
   "source": [
    "# Awayの得点よりHomeの得点を予測\n",
    "list_home = []\n",
    "for i in range(100):\n",
    "    pred = model_1.predict(pd.DataFrame(data ={'Home':'Urawa','Away':'Kashima','Away_Goals':x2}))\n",
    "list_home.append(pred)\n",
    "arr_list_home = np.array(list_home)\n",
    "print(arr_list_home)"
   ]
  },
  {
   "cell_type": "code",
   "execution_count": 21,
   "metadata": {},
   "outputs": [
    {
     "name": "stdout",
     "output_type": "stream",
     "text": [
      "50\n"
     ]
    }
   ],
   "source": [
    "# Homeチームの得点が上回っているデータの個数を計算することで「Homeのチームが勝つ確率」を算出して、表示\n",
    "data_bool = arr_list_home > list_away\n",
    "print(data_bool.sum())"
   ]
  },
  {
   "cell_type": "code",
   "execution_count": null,
   "metadata": {},
   "outputs": [],
   "source": []
  }
 ],
 "metadata": {
  "kernelspec": {
   "display_name": "Python 3",
   "language": "python",
   "name": "python3"
  },
  "language_info": {
   "codemirror_mode": {
    "name": "ipython",
    "version": 3
   },
   "file_extension": ".py",
   "mimetype": "text/x-python",
   "name": "python",
   "nbconvert_exporter": "python",
   "pygments_lexer": "ipython3",
   "version": "3.8.3"
  }
 },
 "nbformat": 4,
 "nbformat_minor": 4
}
